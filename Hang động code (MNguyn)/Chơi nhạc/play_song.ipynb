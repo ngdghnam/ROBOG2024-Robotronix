{
 "cells": [
  {
   "cell_type": "code",
   "execution_count": 2,
   "metadata": {},
   "outputs": [
    {
     "ename": "ImportError",
     "evalue": "cannot import name 'YanAPI'",
     "output_type": "error",
     "traceback": [
      "\u001b[0;31m---------------------------------------------------------------------------\u001b[0m",
      "\u001b[0;31mImportError\u001b[0m                               Traceback (most recent call last)",
      "\u001b[0;32m<ipython-input-2-b771e5514b36>\u001b[0m in \u001b[0;36m<module>\u001b[0;34m()\u001b[0m\n\u001b[0;32m----> 1\u001b[0;31m \u001b[0;32mfrom\u001b[0m \u001b[0mYanAPI\u001b[0m \u001b[0;32mimport\u001b[0m \u001b[0mYanAPI\u001b[0m\u001b[0;34m\u001b[0m\u001b[0m\n\u001b[0m\u001b[1;32m      2\u001b[0m \u001b[0;32mfrom\u001b[0m \u001b[0mmutagen\u001b[0m\u001b[0;34m.\u001b[0m\u001b[0mmp3\u001b[0m \u001b[0;32mimport\u001b[0m \u001b[0mMP3\u001b[0m\u001b[0;34m\u001b[0m\u001b[0m\n\u001b[1;32m      3\u001b[0m \u001b[0;32mimport\u001b[0m \u001b[0mtime\u001b[0m\u001b[0;34m\u001b[0m\u001b[0m\n\u001b[1;32m      4\u001b[0m \u001b[0;32mfrom\u001b[0m \u001b[0mfind_music\u001b[0m \u001b[0;32mimport\u001b[0m \u001b[0mfind_music\u001b[0m\u001b[0;34m\u001b[0m\u001b[0m\n\u001b[1;32m      5\u001b[0m \u001b[0;32mfrom\u001b[0m \u001b[0mdownload_music\u001b[0m \u001b[0;32mimport\u001b[0m \u001b[0mdownload_music\u001b[0m\u001b[0;34m\u001b[0m\u001b[0m\n",
      "\u001b[0;31mImportError\u001b[0m: cannot import name 'YanAPI'"
     ]
    }
   ],
   "source": [
    "from YanAPI import YanAPI\n",
    "from mutagen.mp3 import MP3\n",
    "import time\n",
    "from find_music import find_music\n",
    "from download_music import download_music\n",
    "\n",
    "ip_addr = \"192.168.1.12\" # please change to your yanshee robot IP\n",
    "YanAPI.yan_api_init(ip_addr)\n"
   ]
  },
  {
   "cell_type": "code",
   "execution_count": null,
   "metadata": {},
   "outputs": [],
   "source": [
    "def listen():\n",
    "    while True:\n",
    "        YanAPI.start_voice_tts(\"What do want to listen to\",False)\n",
    "        time.sleep(2) #sleep 2 seconds to ensure the voice will not be interapt by the code below\n",
    "        listen_res = YanAPI.sync_do_voice_asr_value() # listen again to get the name.\n",
    "        if len(listen_res[\"answer\"]) > 0:# user said something\n",
    "            YanAPI.start_voice_tts(\"Please wait while I find the song\",False)\n",
    "            time.sleep(3)\n",
    "            result = find_music(listen_res['answer'])\n",
    "            YanAPI.start_voice_tts(\"Is this what you are looking for: \"+result+\"\",False)\n",
    "            if YanAPI.sync_do_voice_asr_value()['answer'] == 'no':\n",
    "                continue\n",
    "            else:\n",
    "                YanAPI.start_voice_tts(\"Please wait while I download the song\",False)\n",
    "                break\n",
    "        else:\n",
    "            YanAPI.start_voice_tts(\"I cannot hear you, try again\",False)\n",
    "    return listen_res['answer']"
   ]
  },
  {
   "cell_type": "code",
   "execution_count": null,
   "metadata": {},
   "outputs": [],
   "source": [
    "def play_song():\n",
    "    title = download_music(listen())\n",
    "    YanAPI.start_play_music(f'./Music/{title}')\n",
    "    time.sleep(5)\n",
    "    # time.sleep(MP3(f'./Music/{title}').info.length)\n",
    "    YanAPI.stop_play_music()"
   ]
  },
  {
   "cell_type": "code",
   "execution_count": null,
   "metadata": {},
   "outputs": [],
   "source": [
    "play_song()"
   ]
  }
 ],
 "metadata": {
  "kernelspec": {
   "display_name": "Python 3",
   "language": "python",
   "name": "python3"
  }
 },
 "nbformat": 4,
 "nbformat_minor": 2
}
