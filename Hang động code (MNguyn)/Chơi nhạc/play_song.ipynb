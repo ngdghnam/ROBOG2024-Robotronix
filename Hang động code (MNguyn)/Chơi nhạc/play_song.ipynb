{
 "cells": [
  {
   "cell_type": "code",
   "execution_count": 3,
   "metadata": {},
   "outputs": [],
   "source": [
    "import YanAPI as YanAPI\n",
    "from mutagen.mp3 import MP3\n",
    "import time\n",
    "\n",
    "ip_addr = \"192.168.1.12\" # please change to your yanshee robot IP\n",
    "YanAPI.yan_api_init(ip_addr)\n"
   ]
  },
  {
   "cell_type": "code",
   "execution_count": 5,
   "metadata": {},
   "outputs": [
    {
     "ename": "SyntaxError",
     "evalue": "invalid syntax (<ipython-input-5-c6a095fc09e1>, line 7)",
     "output_type": "error",
     "traceback": [
      "\u001b[0;36m  File \u001b[0;32m\"<ipython-input-5-c6a095fc09e1>\"\u001b[0;36m, line \u001b[0;32m7\u001b[0m\n\u001b[0;31m    URLS = f\"https://www.youtube.com{YTSearchResult[0]['url_suffix']}\"\u001b[0m\n\u001b[0m                                                                     ^\u001b[0m\n\u001b[0;31mSyntaxError\u001b[0m\u001b[0;31m:\u001b[0m invalid syntax\n"
     ]
    }
   ],
   "source": [
    "import yt_dlp\n",
    "from youtube_search import YoutubeSearch\n",
    "\n",
    "def download_music(search_str):\n",
    "    YTSearchResult = YoutubeSearch(search_str, max_results=1).to_dict()\n",
    "\n",
    "    URLS = \"https://www.youtube.com{a}\".format(a=YTSearchResult[0]['url_suffix'])\n",
    "\n",
    "    ydl_opts = {\n",
    "        'format': 'mp3/bestaudio/best',\n",
    "        'ffmpeg_location': '.venv/Lib/site-packages/ffmpeg-full_build/bin',\n",
    "        'outtmpl': './Music/%(title)s.%(ext)s',\n",
    "        'postprocessors': [{\n",
    "            'key': 'FFmpegExtractAudio',\n",
    "            'preferredcodec': 'mp3',\n",
    "        }]\n",
    "    }\n",
    "\n",
    "    with yt_dlp.YoutubeDL(ydl_opts) as ydl:\n",
    "        ydl.download(URLS)\n",
    "    \n",
    "    return ydl_opts['outtmpl']"
   ]
  },
  {
   "cell_type": "code",
   "execution_count": null,
   "metadata": {},
   "outputs": [],
   "source": [
    "import spotipy\n",
    "from spotipy.oauth2 import SpotifyClientCredentials\n",
    "import pandas as pd\n",
    "\n",
    "def find_music(search_str):\n",
    "    sp = spotipy.Spotify(auth_manager=SpotifyClientCredentials(\n",
    "        client_id=\"b89acd4356eb4d0ca884d29d568daa20\",\n",
    "        client_secret=\"ec186bc7b2fc4aeeb4afd41afda26cad\"\n",
    "        )\n",
    "    )\n",
    "\n",
    "    results = sp.search(search_str)\n",
    "\n",
    "    search_result=[]\n",
    "    for result in results['tracks']['items']:\n",
    "            \n",
    "        AssistArtist = \"\"\n",
    "        for i in range(1,len(result['artists'])):\n",
    "            temp = result['artists'][i]['name']\n",
    "            if i == 1:\n",
    "                AssistArtist += temp\n",
    "            else:\n",
    "                AssistArtist = \", \" + temp\n",
    "            \n",
    "        result_details = dict(\n",
    "            SongName = result['name'],\n",
    "            MainArtist = result['artists'][0]['name'],\n",
    "            FeaturedArtist = AssistArtist,\n",
    "            URI = result['uri']\n",
    "        )\n",
    "        search_result.append(result_details)\n",
    "\n",
    "    result = pd.DataFrame(search_result)\n",
    "\n",
    "    result.to_csv('./Result.csv')\n",
    "    print(result)\n",
    "\n",
    "    search_str = str(result['SongName'][0] + ' ' + result['MainArtist'][0])\n",
    "\n",
    "    return search_str"
   ]
  },
  {
   "cell_type": "code",
   "execution_count": null,
   "metadata": {},
   "outputs": [],
   "source": [
    "def listen():\n",
    "    while True:\n",
    "        YanAPI.start_voice_tts(\"What do want to listen to\",False)\n",
    "        time.sleep(2) #sleep 2 seconds to ensure the voice will not be interapt by the code below\n",
    "        listen_res = YanAPI.sync_do_voice_asr_value() # listen again to get the name.\n",
    "        if len(listen_res[\"answer\"]) > 0:# user said something\n",
    "            YanAPI.start_voice_tts(\"Please wait while I find the song\",False)\n",
    "            time.sleep(3)\n",
    "            result = find_music(listen_res['answer'])\n",
    "            YanAPI.start_voice_tts(\"Is this what you are looking for: \"+result+\"\",False)\n",
    "            if YanAPI.sync_do_voice_asr_value()['answer'] == 'no':\n",
    "                continue\n",
    "            else:\n",
    "                YanAPI.start_voice_tts(\"Please wait while I download the song\",False)\n",
    "                break\n",
    "        else:\n",
    "            YanAPI.start_voice_tts(\"I cannot hear you, try again\",False)\n",
    "    return listen_res['answer']"
   ]
  },
  {
   "cell_type": "code",
   "execution_count": null,
   "metadata": {},
   "outputs": [],
   "source": [
    "def play_song():\n",
    "    title = download_music(listen())\n",
    "    YanAPI.start_play_music(f'./Music/{title}')\n",
    "    time.sleep(5)\n",
    "    # time.sleep(MP3(f'./Music/{title}').info.length)\n",
    "    YanAPI.stop_play_music()"
   ]
  },
  {
   "cell_type": "code",
   "execution_count": null,
   "metadata": {},
   "outputs": [],
   "source": [
    "play_song()"
   ]
  }
 ],
 "metadata": {
  "kernelspec": {
   "display_name": "Python 3",
   "language": "python",
   "name": "python3"
  },
  "language_info": {
   "codemirror_mode": {
    "name": "ipython",
    "version": 3
   },
   "file_extension": ".py",
   "mimetype": "text/x-python",
   "name": "python",
   "nbconvert_exporter": "python",
   "pygments_lexer": "ipython3",
   "version": "3.5.3"
  }
 },
 "nbformat": 4,
 "nbformat_minor": 2
}
