{
  "cells": [
    {
      "cell_type": "code",
      "execution_count": 2,
      "metadata": {
        "trusted": true
      },
      "outputs": [
        {
          "name": "stdout",
          "output_type": "stream",
          "text": [
            "{'code': 0, 'data': {'total_time': 3750}, 'msg': 'success'}\n"
          ]
        },
        {
          "data": {
            "text/plain": [
              "True"
            ]
          },
          "execution_count": 2,
          "metadata": {},
          "output_type": "execute_result"
        }
      ],
      "source": [
        "import YanAPI\n",
        "import time\n",
        "\n",
        "ip_addr = \"192.168.0.160\" # please change to your yanshee robot IP\n",
        "YanAPI.yan_api_init(ip_addr)\n",
        "\n",
        "res = YanAPI.start_play_motion(name=\"raise\",direction=\"right\",speed=\"normal\",repeat=3)\n",
        "time.sleep(2)\n",
        "#time.sleep(res[\"data\"][\"total_time\"])\n",
        "print(res)\n",
        "YanAPI.sync_play_motion(name=\"crouch\",speed=\"slow\")\n",
        "YanAPI.sync_play_motion(name=\"reset\")\n",
        "# do tay phai ba lan roi cuoi nguoi chao\n",
        "\n",
        "YanAPI.sync_play_motion(name=\"wave\",direction=\"both\",speed=\"normal\",repeat=3)\n",
        "YanAPI.sync_play_motion(name=\"reset\")"
      ]
    },
    {
      "cell_type": "code",
      "execution_count": null,
      "metadata": {
        "trusted": true
      },
      "outputs": [],
      "source": []
    }
  ],
  "metadata": {
    "kernelspec": {
      "display_name": ".venv",
      "language": "python",
      "name": "python3"
    },
    "language_info": {
      "codemirror_mode": {
        "name": "ipython",
        "version": 3
      },
      "file_extension": ".py",
      "mimetype": "text/x-python",
      "name": "python",
      "nbconvert_exporter": "python",
      "pygments_lexer": "ipython3",
      "version": "3.11.5"
    }
  },
  "nbformat": 4,
  "nbformat_minor": 4
}
