{
  "metadata": {
    "kernelspec": {
      "name": "python",
      "display_name": "Python (Pyodide)",
      "language": "python"
    },
    "language_info": {
      "codemirror_mode": {
        "name": "python",
        "version": 3
      },
      "file_extension": ".py",
      "mimetype": "text/x-python",
      "name": "python",
      "nbconvert_exporter": "python",
      "pygments_lexer": "ipython3",
      "version": "3.8"
    }
  },
  "nbformat_minor": 4,
  "nbformat": 4,
  "cells": [
    {
      "cell_type": "code",
      "source": "from YansheeRobot import YanAPI\nimport time\n\nip_addr = \"8888\" # please change to your yanshee robot IP\nYanAPI.yan_api_init(ip_addr)\n\nres = YanAPI.start_play_motion(name=\"raise\",direction=\"right\",speed=\"normal\",repeat=3)\ntime.sleep(2)\n#time.sleep(res[\"data\"][\"total_time\"])\nprint(res)\nYanAPI.sync_play_motion(name=\"crouch\",speed=\"slow\")\nYanAPI.sync_play_motion(name=\"reset\")\n# do tay phai ba lan roi cuoi nguoi chao\n\nYanAPI.sync_play_motion(name=\"wave\",direction=\"both\",speed=\"normal\",repeat=3)",
      "metadata": {
        "trusted": true
      },
      "outputs": [
        {
          "ename": "<class 'ModuleNotFoundError'>",
          "evalue": "No module named 'YansheeRobot'",
          "traceback": [
            "\u001b[0;31m---------------------------------------------------------------------------\u001b[0m",
            "\u001b[0;31mModuleNotFoundError\u001b[0m                       Traceback (most recent call last)",
            "Cell \u001b[0;32mIn[2], line 1\u001b[0m\n\u001b[0;32m----> 1\u001b[0m \u001b[38;5;28;01mfrom\u001b[39;00m \u001b[38;5;21;01mYansheeRobot\u001b[39;00m \u001b[38;5;28;01mimport\u001b[39;00m YanAPI\n\u001b[1;32m      2\u001b[0m \u001b[38;5;28;01mimport\u001b[39;00m \u001b[38;5;21;01mtime\u001b[39;00m\n\u001b[1;32m      4\u001b[0m ip_addr \u001b[38;5;241m=\u001b[39m \u001b[38;5;124m\"\u001b[39m\u001b[38;5;124m8888\u001b[39m\u001b[38;5;124m\"\u001b[39m \u001b[38;5;66;03m# please change to your yanshee robot IP\u001b[39;00m\n",
            "\u001b[0;31mModuleNotFoundError\u001b[0m: No module named 'YansheeRobot'"
          ],
          "output_type": "error"
        }
      ],
      "execution_count": 2
    },
    {
      "cell_type": "code",
      "source": "",
      "metadata": {
        "trusted": true
      },
      "outputs": [],
      "execution_count": null
    }
  ]
}