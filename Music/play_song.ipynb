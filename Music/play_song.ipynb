{
 "cells": [
  {
   "cell_type": "code",
   "execution_count": null,
   "metadata": {},
   "outputs": [],
   "source": [
    "#!pip install spotipy\n",
    "#!pip install mutagen\n",
    "#!pip install yt_dlp\n",
    "#!pip install youtube_search\n",
    "#!pip install -v pandas==0.23.1\n",
    "#!pip install numpy\n",
    "#!pip uninstall youtube_search\n",
    "#!pip install git+https://github.com/LeeMinNguyeen/youtube_search_35python.git"
   ]
  },
  {
   "cell_type": "code",
   "execution_count": null,
   "metadata": {},
   "outputs": [],
   "source": [
    "import youtube_search\n",
    "import YanAPI as YanAPI\n",
    "from mutagen.mp3 import MP3\n",
    "import time\n",
    "\n",
    "ip_addr = \"192.168.1.12\" # please change to your yanshee robot IP\n",
    "YanAPI.yan_api_init(ip_addr)"
   ]
  },
  {
   "cell_type": "code",
   "execution_count": null,
   "metadata": {},
   "outputs": [],
   "source": [
    "import yt_dlp\n",
    "from youtube_search import YoutubeSearch\n",
    "\n",
    "def download_music(search_str):\n",
    "    YTSearchResult = YoutubeSearch(search_str, max_results=1).to_dict()\n",
    "\n",
    "    URLS = \"https://www.youtube.com{link}\".format(link = YTSearchResult[0]['url_suffix'])\n",
    "\n",
    "    ydl_opts = {\n",
    "        'format': 'mp3/bestaudio/best',\n",
    "        'ffmpeg_location': './ffmpeg-git-fullbuild/bin',\n",
    "        'outtmpl': './Music/%(title)s.%(ext)s',\n",
    "        'postprocessors': [{\n",
    "            'key': 'FFmpegExtractAudio',\n",
    "            'preferredcodec': 'mp3',\n",
    "        }]\n",
    "    }\n",
    "\n",
    "    with yt_dlp.YoutubeDL(ydl_opts) as ydl:\n",
    "        ydl.download((URLS,))\n",
    "    \n",
    "    return ydl_opts['outtmpl']"
   ]
  },
  {
   "cell_type": "code",
   "execution_count": null,
   "metadata": {},
   "outputs": [],
   "source": [
    "import spotipy\n",
    "from spotipy.oauth2 import SpotifyClientCredentials\n",
    "\n",
    "def find_music(search_str):\n",
    "    sp = spotipy.Spotify(auth_manager=SpotifyClientCredentials(\n",
    "        client_id=\"b89acd4356eb4d0ca884d29d568daa20\",\n",
    "        client_secret=\"ec186bc7b2fc4aeeb4afd41afda26cad\"\n",
    "        )\n",
    "    )\n",
    "\n",
    "    results = sp.search(search_str, limit=1)\n",
    "    \n",
    "    result_details = dict(\n",
    "        SongName = results['tracks']['items'][0]['name'],\n",
    "        MainArtist = results['tracks']['items'][0]['artists'][0]['name'],\n",
    "        #FeaturedArtist = AssistArtist,\n",
    "        #URI = results['tracks']['items'][0]['uri']\n",
    "    )\n",
    "\n",
    "    #result = pd.DataFrame(search_result)\n",
    "\n",
    "    #result.to_csv('./Result.csv')\n",
    "\n",
    "    search_result = str(result_details['SongName'] + ' ' + result_details['MainArtist'])\n",
    "\n",
    "    return search_result"
   ]
  },
  {
   "cell_type": "code",
   "execution_count": null,
   "metadata": {},
   "outputs": [],
   "source": [
    "def get_music():\n",
    "    while True:\n",
    "        YanAPI.start_voice_tts(\"What do want to listen to\",False)\n",
    "        time.sleep(2) #sleep 2 seconds to ensure the voice will not be interapt by the code below\n",
    "        listen_res = YanAPI.sync_do_voice_asr_value() # listen again to get the name.\n",
    "        print(listen_res)\n",
    "        if len(listen_res[\"question\"]) > 0:# user said something\n",
    "            YanAPI.start_voice_tts(\"Please wait while I find the song\",False)\n",
    "            result = find_music(str(listen_res['question']))\n",
    "            YanAPI.start_voice_tts(\"Is this what you are looking for: \"+result+\"\",False)\n",
    "            #if YanAPI.sync_do_voice_asr_value()['question'] == 'no':\n",
    "                #continue\n",
    "            #else:\n",
    "            YanAPI.start_voice_tts(\"Please wait while I download the song\",False)\n",
    "            break\n",
    "        else:\n",
    "            YanAPI.start_voice_tts(\"I cannot hear you, try again\",False)\n",
    "    return listen_res['question']\n",
    "\n",
    "def play_song():\n",
    "    title = download_music(get_music())\n",
    "    YanAPI.start_play_music('./Music/{title}'.format(title=title))\n",
    "    time.sleep(5)\n",
    "    # time.sleep(MP3(f'./Music/{title}').info.length)\n",
    "    YanAPI.stop_play_music()"
   ]
  },
  {
   "cell_type": "code",
   "execution_count": null,
   "metadata": {},
   "outputs": [],
   "source": [
    "play_song()"
   ]
  }
 ],
 "metadata": {
  "kernelspec": {
   "display_name": "Python 3",
   "language": "python",
   "name": "python3"
  },
  "language_info": {
   "name": "python",
   "version": "3.11.5"
  }
 },
 "nbformat": 4,
 "nbformat_minor": 2
}
