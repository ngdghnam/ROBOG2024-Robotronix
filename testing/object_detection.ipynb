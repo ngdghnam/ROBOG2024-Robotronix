{
 "cells": [
  {
   "cell_type": "code",
   "execution_count": 1,
   "metadata": {},
   "outputs": [],
   "source": [
    "# Import libraries\n",
    "import os\n",
    "import cv2\n",
    "import numpy as np\n",
    "import matplotlib.pyplot as plt\n",
    "\n",
    "from zipfile import ZipFile\n",
    "from urllib.request import urlretrieve\n",
    "\n",
    "%matplotlib inline"
   ]
  },
  {
   "cell_type": "markdown",
   "metadata": {},
   "source": [
    "OBJECT DETECTION "
   ]
  },
  {
   "cell_type": "markdown",
   "metadata": {},
   "source": [
    "Download Model files from Tensorflow model ZOO\n",
    "Model files can be downloaded from the Tensorflow Object Detection Model Zoo: tf2_detection_zoo.md\n",
    "\n",
    "Download mobilenet model file\n",
    "You can download the model TAR.GZ file and uncompress it.\n",
    "\n",
    "After Uncompressing and put the highlighed file (along with the folder) in a models folder.\n",
    "\n",
    "ssd_mobilenet_v2_coco_2018_03_29\n",
    "|─ checkpoint\n",
    "|─ frozen_inference_graph.pb\n",
    "|─ model.ckpt.data-00000-of-00001\n",
    "|─ model.ckpt.index\n",
    "|─ model.ckpt.meta\n",
    "|─ pipeline.config\n",
    "|─ saved_model\n",
    "|─── saved_model.pb\n",
    "|─── variables\n",
    "\n",
    "Create config file from frozen graph\n",
    "Extract the files\n",
    "Run the tf_text_graph_ssd.py file with input as the path to the frozen_graph.pb file and output as desired.\n",
    "A sample config file has been included in the models folder\n",
    "\n",
    "A Script to download and extract model tar.gz file."
   ]
  },
  {
   "cell_type": "code",
   "execution_count": null,
   "metadata": {},
   "outputs": [],
   "source": [
    "if not os.path.isdir('models'):\n",
    "    os.mkdir(\"models\")\n",
    "\n",
    "if not os.path.isfile(modelFile):\n",
    "    os.chdir(\"models\")\n",
    "    # Download the tensorflow Model\n",
    "    urllib.request.urlretrieve('http://download.tensorflow.org/models/object_detection/ssd_mobilenet_v2_coco_2018_03_29.tar.gz', 'ssd_mobilenet_v2_coco_2018_03_29.tar.gz')\n",
    "\n",
    "    # Uncompress the file\n",
    "    !tar -xvf ssd_mobilenet_v2_coco_2018_03_29.tar.gz\n",
    "\n",
    "    # Delete the tar.gz file\n",
    "    os.remove('ssd_mobilenet_v2_coco_2018_03_29.tar.gz')\n",
    "\n",
    "    # Come back to the previous directory\n",
    "    os.chdir(\"..\")"
   ]
  },
  {
   "cell_type": "markdown",
   "metadata": {},
   "source": [
    "The final directory structure should look like this:\n",
    "\n",
    "\n",
    "├─── coco_class_labels.txt        \n",
    "├─── tf_text_graph_ssd.py\n",
    "└─── models\n",
    "     ├───ssd_mobilenet_v2_coco_2018_03_29.pbtxt\n",
    "     └───ssd_mobilenet_v2_coco_2018_03_29\n",
    "         └───frozen_inference_graph.pb"
   ]
  },
  {
   "cell_type": "markdown",
   "metadata": {},
   "source": [
    "Download Assets "
   ]
  },
  {
   "cell_type": "code",
   "execution_count": null,
   "metadata": {},
   "outputs": [],
   "source": [
    "def download_and_unzip(url, save_path):\n",
    "    print(f\"Downloading and extracting assests....\", end=\"\")\n",
    "\n",
    "    # Downloading zip file using urllib package.\n",
    "    urlretrieve(url, save_path)\n",
    "\n",
    "    try:\n",
    "        # Extracting zip file using the zipfile package.\n",
    "        with ZipFile(save_path) as z:\n",
    "            # Extract ZIP file contents in the same directory.\n",
    "            z.extractall(os.path.split(save_path)[0])\n",
    "\n",
    "        print(\"Done\")\n",
    "\n",
    "    except Exception as e:\n",
    "        print(\"\\nInvalid file.\", e)"
   ]
  },
  {
   "cell_type": "code",
   "execution_count": null,
   "metadata": {},
   "outputs": [],
   "source": [
    "URL = r\"https://www.dropbox.com/s/xoomeq2ids9551y/opencv_bootcamp_assets_NB13.zip?dl=1\"\n",
    "\n",
    "asset_zip_path = os.path.join(os.getcwd(), \"opencv_bootcamp_assets_NB13.zip\")\n",
    "\n",
    "# Download if assest ZIP does not exists. \n",
    "if not os.path.exists(asset_zip_path):\n",
    "    download_and_unzip(URL, asset_zip_path)   "
   ]
  },
  {
   "cell_type": "markdown",
   "metadata": {},
   "source": [
    "CHECK CLASS LABELS "
   ]
  },
  {
   "cell_type": "code",
   "execution_count": null,
   "metadata": {},
   "outputs": [],
   "source": [
    "classFile  = \"coco_class_labels.txt\""
   ]
  },
  {
   "cell_type": "code",
   "execution_count": null,
   "metadata": {},
   "outputs": [],
   "source": [
    "with open(classFile) as fp:\n",
    "    labels = fp.read().split(\"\\n\")\n",
    "    \n",
    "print(labels)"
   ]
  },
  {
   "cell_type": "markdown",
   "metadata": {},
   "source": [
    "The steps for performing infernece using a DNN model are summarized below:\n",
    "Load the model and input image into memory.\n",
    "Detect objects using a forward pass through the network.\n",
    "Display the detected objects with bounding boxes and class labels."
   ]
  },
  {
   "cell_type": "markdown",
   "metadata": {},
   "source": [
    "READ TENSORFLOW MODELS"
   ]
  },
  {
   "cell_type": "code",
   "execution_count": null,
   "metadata": {},
   "outputs": [],
   "source": [
    "modelFile  = os.path.join(\"models\", \"ssd_mobilenet_v2_coco_2018_03_29\", \"frozen_inference_graph.pb\")\n",
    "configFile = os.path.join(\"models\", \"ssd_mobilenet_v2_coco_2018_03_29.pbtxt\")"
   ]
  },
  {
   "cell_type": "code",
   "execution_count": null,
   "metadata": {},
   "outputs": [],
   "source": [
    "# Read the Tensorflow network\n",
    "net = cv2.dnn.readNetFromTensorflow(modelFile, configFile)"
   ]
  },
  {
   "cell_type": "markdown",
   "metadata": {},
   "source": [
    "DETECT OBJECTION"
   ]
  },
  {
   "cell_type": "code",
   "execution_count": null,
   "metadata": {},
   "outputs": [],
   "source": [
    "# For ach file in the directory\n",
    "def detect_objects(net, im, dim = 300):\n",
    "\n",
    "    # Create a blob from the image\n",
    "    blob = cv2.dnn.blobFromImage(im, 1.0, size=(dim, dim), mean=(0, 0, 0), swapRB=True, crop=False)\n",
    "\n",
    "    # Pass blob to the network\n",
    "    net.setInput(blob)\n",
    "\n",
    "    # Peform Prediction\n",
    "    objects = net.forward()\n",
    "    return objects"
   ]
  },
  {
   "cell_type": "code",
   "execution_count": null,
   "metadata": {},
   "outputs": [],
   "source": [
    "FONTFACE = cv2.FONT_HERSHEY_SIMPLEX\n",
    "FONT_SCALE = 0.7\n",
    "THICKNESS = 1"
   ]
  },
  {
   "cell_type": "code",
   "execution_count": null,
   "metadata": {},
   "outputs": [],
   "source": [
    "def display_text(im, text, x, y):\n",
    "    # Get text size\n",
    "    textSize = cv2.getTextSize(text, FONTFACE, FONT_SCALE, THICKNESS)\n",
    "    dim = textSize[0]\n",
    "    baseline = textSize[1]\n",
    "\n",
    "    # Use text size to create a black rectangle\n",
    "    cv2.rectangle(\n",
    "        im,\n",
    "        (x, y - dim[1] - baseline),\n",
    "        (x + dim[0], y + baseline),\n",
    "        (0, 0, 0),\n",
    "        cv2.FILLED,\n",
    "    )\n",
    "\n",
    "    # Display text inside the rectangle\n",
    "    cv2.putText(\n",
    "        im,\n",
    "        text,\n",
    "        (x, y - 5),\n",
    "        FONTFACE,\n",
    "        FONT_SCALE,\n",
    "        (0, 255, 255),\n",
    "        THICKNESS,\n",
    "        cv2.LINE_AA,\n",
    "    )"
   ]
  },
  {
   "cell_type": "markdown",
   "metadata": {},
   "source": [
    "DISPLAY OBJECTIONS "
   ]
  },
  {
   "cell_type": "code",
   "execution_count": null,
   "metadata": {},
   "outputs": [],
   "source": [
    "def display_objects(im, objects, threshold=0.25):\n",
    "    rows = im.shape[0]\n",
    "    cols = im.shape[1]\n",
    "\n",
    "    # For every Detected Object\n",
    "    for i in range(objects.shape[2]):\n",
    "        # Find the class and confidence\n",
    "        classId = int(objects[0, 0, i, 1])\n",
    "        score = float(objects[0, 0, i, 2])\n",
    "\n",
    "        # Recover original cordinates from normalized coordinates\n",
    "        x = int(objects[0, 0, i, 3] * cols)\n",
    "        y = int(objects[0, 0, i, 4] * rows)\n",
    "        w = int(objects[0, 0, i, 5] * cols - x)\n",
    "        h = int(objects[0, 0, i, 6] * rows - y)\n",
    "\n",
    "        # Check if the detection is of good quality\n",
    "        if score > threshold:\n",
    "            display_text(im, \"{}\".format(labels[classId]), x, y)\n",
    "            cv2.rectangle(im, (x, y), (x + w, y + h), (255, 255, 255), 2)\n",
    "\n",
    "    # Convert Image to RGB since we are using Matplotlib for displaying image\n",
    "    mp_img = cv2.cvtColor(im, cv2.COLOR_BGR2RGB)\n",
    "    plt.figure(figsize=(30, 10))\n",
    "    plt.imshow(mp_img)\n",
    "    plt.show()"
   ]
  },
  {
   "cell_type": "markdown",
   "metadata": {},
   "source": [
    "RESULTS "
   ]
  },
  {
   "cell_type": "code",
   "execution_count": null,
   "metadata": {},
   "outputs": [],
   "source": [
    "im = cv2.imread(os.path.join(\"images\", \"street.jpg\"))\n",
    "objects = detect_objects(net, im)\n",
    "display_objects(im, objects)"
   ]
  }
 ],
 "metadata": {
  "kernelspec": {
   "display_name": "Python 3",
   "language": "python",
   "name": "python3"
  },
  "language_info": {
   "codemirror_mode": {
    "name": "ipython",
    "version": 3
   },
   "file_extension": ".py",
   "mimetype": "text/x-python",
   "name": "python",
   "nbconvert_exporter": "python",
   "pygments_lexer": "ipython3",
   "version": "3.11.5"
  }
 },
 "nbformat": 4,
 "nbformat_minor": 2
}
