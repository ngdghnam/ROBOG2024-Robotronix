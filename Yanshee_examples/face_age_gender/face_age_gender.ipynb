{
 "cells": [
  {
   "cell_type": "markdown",
   "metadata": {},
   "source": [
    "# Yanshee-Age and Gender Recognition"
   ]
  },
  {
   "cell_type": "markdown",
   "metadata": {},
   "source": [
    "## 1. First import the robot header file"
   ]
  },
  {
   "cell_type": "code",
   "execution_count": null,
   "metadata": {},
   "outputs": [],
   "source": [
    "from YansheeRobot import YanAPI"
   ]
  },
  {
   "cell_type": "markdown",
   "metadata": {},
   "source": [
    "## 2. Set the IP address of the robot to be controlled"
   ]
  },
  {
   "cell_type": "code",
   "execution_count": null,
   "metadata": {},
   "outputs": [],
   "source": [
    "ip_addr = \"10.10.63.13\" # please change to your yanshee robot IP\n",
    "YanAPI.yan_api_init(ip_addr)"
   ]
  },
  {
   "cell_type": "markdown",
   "metadata": {},
   "source": [
    "## 3. Call the age recognizing interface for recognizing\n",
    "\n",
    "### During age recognizing, your are advised to face the robot camera and keep a distance of about 30 to 50 cm away from the camera"
   ]
  },
  {
   "cell_type": "code",
   "execution_count": null,
   "metadata": {},
   "outputs": [],
   "source": [
    "res = YanAPI.sync_do_face_recognition(\"age\")\n",
    "print(res)"
   ]
  },
  {
   "cell_type": "markdown",
   "metadata": {},
   "source": [
    "## 4. Print the age recognizing result"
   ]
  },
  {
   "cell_type": "code",
   "execution_count": null,
   "metadata": {},
   "outputs": [],
   "source": [
    "age_val = res[\"data\"][\"analysis\"][\"age\"]\n",
    "if age_val >= 0 :\n",
    "    print(\"\\nResult of age recognizing: \")\n",
    "    print(str(res[\"data\"][\"analysis\"][\"age\"])+\" Y\")\n",
    "else:\n",
    "    print(\" \\nNo face found\")"
   ]
  },
  {
   "cell_type": "markdown",
   "metadata": {},
   "source": [
    "## 5. Call the gender recognizing interface for recognizing\n",
    "\n",
    "### During gender recognizing, your are advised to face the robot camera and keep a distance of about 30 to 50 cm away from the camera"
   ]
  },
  {
   "cell_type": "code",
   "execution_count": null,
   "metadata": {},
   "outputs": [],
   "source": [
    "res = YanAPI.sync_do_face_recognition(\"gender\")\n",
    "print(res)"
   ]
  },
  {
   "cell_type": "markdown",
   "metadata": {},
   "source": [
    "## 6. Print the gender recognizing result\n",
    "\n",
    "### Return result of gender recognizing: male/female. Namely: male、female"
   ]
  },
  {
   "cell_type": "code",
   "execution_count": null,
   "metadata": {},
   "outputs": [],
   "source": [
    "gender_val = res[\"data\"][\"analysis\"][\"gender\"]\n",
    "if gender_val != \"none\"  :\n",
    "    print(\"\\nResult of gender recognized: \")\n",
    "    print(res[\"data\"][\"analysis\"][\"gender\"])\n",
    "else:\n",
    "    print(\" \\nNo face found\")"
   ]
  }
 ],
 "metadata": {
  "kernelspec": {
   "display_name": "Python 3",
   "language": "python",
   "name": "python3"
  },
  "language_info": {
   "codemirror_mode": {
    "name": "ipython",
    "version": 3
   },
   "file_extension": ".py",
   "mimetype": "text/x-python",
   "name": "python",
   "nbconvert_exporter": "python",
   "pygments_lexer": "ipython3",
   "version": "3.5.3"
  }
 },
 "nbformat": 4,
 "nbformat_minor": 4
}
