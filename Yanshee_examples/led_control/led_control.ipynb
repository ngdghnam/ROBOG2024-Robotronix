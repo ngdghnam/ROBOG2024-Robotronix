{
 "cells": [
  {
   "cell_type": "markdown",
   "metadata": {},
   "source": [
    "# Yanshee - LED Light Control"
   ]
  },
  {
   "cell_type": "markdown",
   "metadata": {},
   "source": [
    "## 1. First import the robot header file"
   ]
  },
  {
   "cell_type": "code",
   "execution_count": null,
   "metadata": {},
   "outputs": [],
   "source": [
    "from YansheeRobot import YanAPI"
   ]
  },
  {
   "cell_type": "markdown",
   "metadata": {},
   "source": [
    "## 2. Set the IP address of the robot to be controlled"
   ]
  },
  {
   "cell_type": "code",
   "execution_count": null,
   "metadata": {},
   "outputs": [],
   "source": [
    "ip_addr = \"10.10.63.13\" # please change to your yanshee robot IP\n",
    "YanAPI.yan_api_init(ip_addr)"
   ]
  },
  {
   "cell_type": "markdown",
   "metadata": {},
   "source": [
    "## 3. Call the LED control interface to control the light effect\n",
    "\n"
   ]
  },
  {
   "cell_type": "markdown",
   "metadata": {},
   "source": [
    "### Here, the three parameters are as follows: The first parameter is head lamp or chest lamp, that is, camera or button.\n",
    "###  The second parameter is color: when the first parameter is chest lamp button, color can be white/red/green/blue/yellow/purple/cyan; when the first parameter is camera, color can be red/green/blue;\n",
    "### The third parameter is mode: when the first parameter is button, the mode is on/off/blink/breath; when the first parameter is camera, the mode is on/off/blink。"
   ]
  },
  {
   "cell_type": "code",
   "execution_count": null,
   "metadata": {},
   "outputs": [],
   "source": [
    "import time\n",
    "#Set the chest lamp to be steady white.\n",
    "res=YanAPI.set_robot_led('button','white','on')\n",
    "time.sleep(3)\n",
    "#Set the chest lamp to be breathing in red.\n",
    "res=YanAPI.set_robot_led('button','red','breath')\n",
    "time.sleep(3)\n",
    "#Set the chest lamp to be blinking in yellow.\n",
    "res=YanAPI.set_robot_led('button','yellow','blink')\n",
    "time.sleep(3)\n",
    "#Set the chest lamp to be off.\n",
    "res=YanAPI.set_robot_led('button','green','off')\n",
    "time.sleep(3)\n",
    "#Set the chest lamp to be breathing in blue.\n",
    "res=YanAPI.set_robot_led('button','blue','breath')\n",
    "time.sleep(3)\n",
    "#Set the head lamp to be steady green.\n",
    "res=YanAPI.set_robot_led('camera','green','on')\n",
    "time.sleep(3)\n",
    "#Set the head lamp to be steady red.\n",
    "res=YanAPI.set_robot_led('camera','red','on')\n",
    "time.sleep(3)\n",
    "#Set the head lamp to be off.\n",
    "res=YanAPI.set_robot_led('camera','blue','off')\n",
    "time.sleep(3)\n",
    "#Set the head lamp to be blinking in green.\n",
    "res=YanAPI.set_robot_led('camera','green','blink')\n",
    "time.sleep(3)\n",
    "#Set the head lamp to be steady blue.\n",
    "res=YanAPI.set_robot_led('camera','blue','on')\n",
    "time.sleep(3)\n",
    "print(res)"
   ]
  }
 ],
 "metadata": {
  "kernelspec": {
   "display_name": "Python 3",
   "language": "python",
   "name": "python3"
  },
  "language_info": {
   "codemirror_mode": {
    "name": "ipython",
    "version": 3
   },
   "file_extension": ".py",
   "mimetype": "text/x-python",
   "name": "python",
   "nbconvert_exporter": "python",
   "pygments_lexer": "ipython3",
   "version": "3.5.3"
  }
 },
 "nbformat": 4,
 "nbformat_minor": 4
}
