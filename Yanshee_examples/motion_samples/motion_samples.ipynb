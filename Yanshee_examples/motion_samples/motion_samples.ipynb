{
 "cells": [
  {
   "cell_type": "markdown",
   "metadata": {},
   "source": [
    "# Yanshee - Motion Control"
   ]
  },
  {
   "cell_type": "markdown",
   "metadata": {},
   "source": [
    "## 1. First import the robot header file"
   ]
  },
  {
   "cell_type": "code",
   "execution_count": null,
   "metadata": {},
   "outputs": [],
   "source": [
    "from YansheeRobot import YanAPI"
   ]
  },
  {
   "cell_type": "markdown",
   "metadata": {},
   "source": [
    "## 2. Set the IP address of the robot to be controlled"
   ]
  },
  {
   "cell_type": "code",
   "execution_count": null,
   "metadata": {},
   "outputs": [],
   "source": [
    "ip_addr = \"10.10.63.13\" # please change to your yanshee robot IP\n",
    "YanAPI.yan_api_init(ip_addr)"
   ]
  },
  {
   "cell_type": "markdown",
   "metadata": {},
   "source": [
    "## 3. Call the motion control interface to make the robot perform related motions\n",
    "\n"
   ]
  },
  {
   "cell_type": "markdown",
   "metadata": {},
   "source": [
    " #### Parameter description:\n",
    " ##### name(str): In addition to the default value and the motion uploaded by the user, the following values can also be used for the motion name: raise | crouch | stretch | come on | wave | bend | walk | turn around | head | bow\n",
    " ##### direction(str): When name is \"raise | stretch | come on | wave\" , the option of \"direction\" is left | right | both;\n",
    " #####                      When name is \"bend | turn around\", \"direction\", the option of \"direction\" is left | right;\n",
    " #####                      When name is \"walk\", \"direction\", the option of \"direction\" is forward | backward | left | right;\n",
    " #####                      When name is \"head\", \"direction\", the option of \"direction\" is forward | left | right\n",
    " #####  repeat(int): Number of repetitions 1 to 100\n",
    " #####  speed(str): Motion speed, with options (very slow, slow, normal, fast, very fast) "
   ]
  },
  {
   "cell_type": "markdown",
   "metadata": {},
   "source": [
    "### Examples are as follows:"
   ]
  },
  {
   "cell_type": "markdown",
   "metadata": {},
   "source": [
    "### Control the robot to raise its left hand"
   ]
  },
  {
   "cell_type": "code",
   "execution_count": null,
   "metadata": {},
   "outputs": [],
   "source": [
    "YanAPI.sync_play_motion(name=\"raise\",direction=\"left\",speed=\"normal\",repeat=1)\n"
   ]
  },
  {
   "cell_type": "markdown",
   "metadata": {},
   "source": [
    "##  4. Control the robot to reset"
   ]
  },
  {
   "cell_type": "code",
   "execution_count": null,
   "metadata": {},
   "outputs": [],
   "source": [
    "YanAPI.sync_play_motion(name=\"reset\")"
   ]
  },
  {
   "cell_type": "markdown",
   "metadata": {},
   "source": [
    "## 5. Control the robot to bow\n"
   ]
  },
  {
   "cell_type": "code",
   "execution_count": null,
   "metadata": {},
   "outputs": [],
   "source": [
    "YanAPI.sync_play_motion(name=\"bow\",speed=\"slow\")"
   ]
  },
  {
   "cell_type": "markdown",
   "metadata": {},
   "source": [
    "## 6. Control the robot to squat"
   ]
  },
  {
   "cell_type": "code",
   "execution_count": null,
   "metadata": {},
   "outputs": [],
   "source": [
    "YanAPI.sync_play_motion(name=\"crouch\",speed=\"slow\")"
   ]
  },
  {
   "cell_type": "markdown",
   "metadata": {},
   "source": [
    "## 7. Example of asynchronous interruptible motions: (the robot raises its right hand three times and then bows)"
   ]
  },
  {
   "cell_type": "code",
   "execution_count": null,
   "metadata": {},
   "outputs": [],
   "source": [
    " import time\n",
    "\n",
    "res = YanAPI.start_play_motion(name=\"raise\",direction=\"right\",speed=\"normal\",repeat=3)\n",
    "time.sleep(2)\n",
    "#time.sleep(res[\"data\"][\"total_time\"])\n",
    "print(res)\n",
    "YanAPI.sync_play_motion(name=\"crouch\",speed=\"slow\")\n",
    "YanAPI.sync_play_motion(name=\"reset\")"
   ]
  },
  {
   "cell_type": "markdown",
   "metadata": {},
   "source": [
    "##### We found that the asynchronous motion interface start_play_motion can be interrupted anytime, and this function is used for non blocking calling. If the delay is not enough, it will be interrupted by the next motion. Of course, you can also judge whether the motion is completed through the robot motion execution status interface."
   ]
  },
  {
   "cell_type": "markdown",
   "metadata": {},
   "source": [
    "  "
   ]
  },
  {
   "cell_type": "markdown",
   "metadata": {},
   "source": [
    "## 8. Control the robot to dance"
   ]
  },
  {
   "cell_type": "code",
   "execution_count": null,
   "metadata": {},
   "outputs": [],
   "source": [
    "res = YanAPI.start_play_motion(name=\"HappyBirthday\")\n",
    "print(res)"
   ]
  },
  {
   "cell_type": "code",
   "execution_count": null,
   "metadata": {},
   "outputs": [],
   "source": []
  }
 ],
 "metadata": {
  "kernelspec": {
   "display_name": "Python 3",
   "language": "python",
   "name": "python3"
  },
  "language_info": {
   "codemirror_mode": {
    "name": "ipython",
    "version": 3
   },
   "file_extension": ".py",
   "mimetype": "text/x-python",
   "name": "python",
   "nbconvert_exporter": "python",
   "pygments_lexer": "ipython3",
   "version": "3.5.3"
  }
 },
 "nbformat": 4,
 "nbformat_minor": 4
}
