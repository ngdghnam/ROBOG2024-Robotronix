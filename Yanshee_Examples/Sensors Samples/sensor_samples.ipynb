{
 "cells": [
  {
   "cell_type": "markdown",
   "metadata": {},
   "source": [
    "# Yanshee - Sensor Data Reading"
   ]
  },
  {
   "cell_type": "markdown",
   "metadata": {},
   "source": [
    "## 1. First import the robot header file"
   ]
  },
  {
   "cell_type": "code",
   "execution_count": null,
   "metadata": {},
   "outputs": [],
   "source": [
    "from YansheeRobot import YanAPI"
   ]
  },
  {
   "cell_type": "markdown",
   "metadata": {},
   "source": [
    "## 2. Set the IP address of the robot to be controlled"
   ]
  },
  {
   "cell_type": "code",
   "execution_count": null,
   "metadata": {},
   "outputs": [],
   "source": [
    "ip_addr = \"10.10.63.13\" # please change to your yanshee robot IP\n",
    "YanAPI.yan_api_init(ip_addr)"
   ]
  },
  {
   "cell_type": "markdown",
   "metadata": {},
   "source": [
    "## 3. Get the sensor value through the sensor reading interface\n",
    "\n",
    "### Robot built-in sensor: gyroscope. External sensors include the infrared distance sensor, touch sensor, pressure sensor, and temperature and humidity sensor.\n",
    "#### External sensor refers to the sensor connected to the robot through an external magnetic suction port."
   ]
  },
  {
   "cell_type": "markdown",
   "metadata": {},
   "source": [
    "### 3.1 Read the value of the built-in gyroscope motion sensor of the robot"
   ]
  },
  {
   "cell_type": "code",
   "execution_count": null,
   "metadata": {},
   "outputs": [],
   "source": [
    "res = YanAPI.get_sensors_gyro()\n",
    "print(res)\n",
    "if len(res[\"data\"][\"gyro\"])>0:\n",
    "    print(\"\\nGyroscope value detected: \")\n",
    "    print(res[\"data\"][\"gyro\"][0])"
   ]
  },
  {
   "cell_type": "markdown",
   "metadata": {},
   "source": [
    "### 3.2 Read the value of the external infrared sensor"
   ]
  },
  {
   "cell_type": "code",
   "execution_count": null,
   "metadata": {},
   "outputs": [],
   "source": [
    "res = YanAPI.get_sensors_infrared()\n",
    "print(res)\n",
    "if len(res[\"data\"][\"infrared\"])>0:\n",
    "    print(\"\\nDistance value detected: \")\n",
    "    print(res[\"data\"][\"infrared\"][0][\"value\"])\n",
    "else:\n",
    "     print(\"\\nNo distance sensor detected \")"
   ]
  },
  {
   "cell_type": "markdown",
   "metadata": {},
   "source": [
    "### 3.3 Read the value of the touch sensor\n",
    "\n",
    "### Return value: 0 - Not touched, 1 - Touched on the left, 2 - Touched on the right, 3 - Both sides touched"
   ]
  },
  {
   "cell_type": "code",
   "execution_count": null,
   "metadata": {},
   "outputs": [],
   "source": [
    "res = YanAPI.get_sensors_touch()\n",
    "print(res)\n",
    "if len(res[\"data\"]['touch'])>0:\n",
    "    print(\"\\nTouch value detected: \")\n",
    "    print(res[\"data\"][\"touch\"][0][\"value\"])\n",
    "    result = res[\"data\"][\"touch\"][0][\"value\"]\n",
    "    if result == 0 :\n",
    "        print(\"\\nNot touched \")\n",
    "    if result == 1 :\n",
    "        print(\"\\nTouched on the left \")\n",
    "    if result == 2 :\n",
    "        print(\"\\nTouched on the right \")\n",
    "    if result == 3 :\n",
    "        print(\"\\nBoth sides touched \")\n",
    "else:\n",
    "    print(\"\\nNo touch sensor detected \")"
   ]
  },
  {
   "cell_type": "markdown",
   "metadata": {},
   "source": [
    "### 3.4 Read the value of the temperature and humidity sensor"
   ]
  },
  {
   "cell_type": "code",
   "execution_count": null,
   "metadata": {},
   "outputs": [],
   "source": [
    "res = YanAPI.get_sensors_environment()\n",
    "print(res)\n",
    "if len(res[\"data\"]['environment'])>0:\n",
    "    print(\"Temperature value detected: \")\n",
    "    print(str(res[\"data\"]['environment'][0][\"temperature\"])+\"Celsius degrees\")\n",
    "    print(\"Humidity value detected: \")\n",
    "    print(str(res[\"data\"]['environment'][0][\"humidity\"])+\"%RH\")\n",
    "    print(\"Pressure intensity value detected: \")\n",
    "    print(str(res[\"data\"]['environment'][0][\"pressure\"])+\"hPa \")\n",
    "else:\n",
    "    print(\"\\nNo temperature and humidity sensor detected \")"
   ]
  },
  {
   "cell_type": "markdown",
   "metadata": {},
   "source": [
    "### 3.5 Read the value of the pressure sensor"
   ]
  },
  {
   "cell_type": "code",
   "execution_count": null,
   "metadata": {},
   "outputs": [],
   "source": [
    "res = YanAPI.get_sensors_pressure()\n",
    "print(res)\n",
    "if len(res[\"data\"]['pressure'])>0:\n",
    "    print(\"Pressure value detected: \")\n",
    "    print(str(res[\"data\"]['pressure'][0][\"value\"])+\"N\")\n",
    "else:\n",
    "    print(\"\\nNo pressure sensor detected \")"
   ]
  },
  {
   "cell_type": "code",
   "execution_count": null,
   "metadata": {},
   "outputs": [],
   "source": []
  }
 ],
 "metadata": {
  "kernelspec": {
   "display_name": "Python 3",
   "language": "python",
   "name": "python3"
  },
  "language_info": {
   "codemirror_mode": {
    "name": "ipython",
    "version": 3
   },
   "file_extension": ".py",
   "mimetype": "text/x-python",
   "name": "python",
   "nbconvert_exporter": "python",
   "pygments_lexer": "ipython3",
   "version": "3.5.3"
  }
 },
 "nbformat": 4,
 "nbformat_minor": 4
}
