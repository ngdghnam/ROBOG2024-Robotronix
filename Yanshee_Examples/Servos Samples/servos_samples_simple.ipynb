{
 "cells": [
  {
   "cell_type": "markdown",
   "metadata": {},
   "source": [
    "# Yanshee - Servo Control (Simplified Edition)"
   ]
  },
  {
   "cell_type": "markdown",
   "metadata": {},
   "source": [
    "## 1. First import the robot header file"
   ]
  },
  {
   "cell_type": "code",
   "execution_count": null,
   "metadata": {},
   "outputs": [],
   "source": [
    "from YansheeRobot import YanAPI"
   ]
  },
  {
   "cell_type": "markdown",
   "metadata": {},
   "source": [
    "## 2. Set the IP address of the robot to be controlled"
   ]
  },
  {
   "cell_type": "code",
   "execution_count": null,
   "metadata": {},
   "outputs": [],
   "source": [
    "ip_addr = \"10.10.63.13\" # please change to your yanshee robot IP\n",
    "YanAPI.yan_api_init(ip_addr)"
   ]
  },
  {
   "cell_type": "markdown",
   "metadata": {},
   "source": [
    "## 3. Read the servo angle value\n",
    "\n",
    "### Read the angle value of a servo and directly return the angle value of the servo"
   ]
  },
  {
   "cell_type": "raw",
   "metadata": {},
   "source": [
    "# Parameter description:\n",
    "# name: String Robot Servo Name\n",
    "\n",
    "'''\n",
    "        (\"RightShoulderRoll\") #servo No.1\n",
    "\n",
    "        (\"RightShoulderFlex\") #servo No.2\n",
    "\n",
    "        (\"RightElbowFlex\")    #servo No.3\n",
    "\n",
    "        (\"LeftShoulderRoll\")  #servo No.4\n",
    "\n",
    "        (\"LeftShoulderFlex\")  #servo No.5\n",
    "\n",
    "        (\"LeftElbowFlex\")     #servo No.6\n",
    "\n",
    "        (\"RightHipLR\")        #servo No.7\n",
    "\n",
    "        (\"RightHipFB\")        #servo No.8\n",
    "\n",
    "        (\"RightKneeFlex\")     #servo No.9\n",
    "\n",
    "        (\"RightAnkleFB\")      #servo No.10\n",
    "\n",
    "        (\"RightAnkleUD\")      #servo No.11\n",
    "\n",
    "        (\"LeftHipLR\")         #servo No.12\n",
    "\n",
    "        (\"LeftHipFB\")         #servo No.13\n",
    "\n",
    "        (\"LeftKneeFlex\")      #servo No.14\n",
    "\n",
    "        (\"LeftAnkleFB\")       #servo No.15\n",
    "\n",
    "        (\"LeftAnkleUD\")       #servo No.16\n",
    "\n",
    "        (\"NeckLR\")            #servo No.17\n",
    "\n",
    " \n",
    "\n",
    "    Examples:\n",
    "        Query the angle of servo 17\n",
    "\n",
    "        >>> res = YanAPI.get_servo_angle_value(\"NeckLR\")\n",
    "            print (res)\n",
    " '''"
   ]
  },
  {
   "cell_type": "code",
   "execution_count": null,
   "metadata": {},
   "outputs": [],
   "source": [
    "res = YanAPI.get_servo_angle_value(\"NeckLR\")\n",
    "print (res)"
   ]
  }
 ],
 "metadata": {
  "kernelspec": {
   "display_name": "Python 3",
   "language": "python",
   "name": "python3"
  },
  "language_info": {
   "codemirror_mode": {
    "name": "ipython",
    "version": 3
   },
   "file_extension": ".py",
   "mimetype": "text/x-python",
   "name": "python",
   "nbconvert_exporter": "python",
   "pygments_lexer": "ipython3",
   "version": "3.5.3"
  }
 },
 "nbformat": 4,
 "nbformat_minor": 4
}
