{
 "cells": [
  {
   "cell_type": "markdown",
   "metadata": {},
   "source": [
    "# Yanshee - Servo Control"
   ]
  },
  {
   "cell_type": "markdown",
   "metadata": {},
   "source": [
    "## 1. First import the robot header file"
   ]
  },
  {
   "cell_type": "code",
   "execution_count": null,
   "metadata": {},
   "outputs": [],
   "source": [
    "from YansheeRobot import YanAPI"
   ]
  },
  {
   "cell_type": "markdown",
   "metadata": {},
   "source": [
    "## 2. Set the IP address of the robot to be controlled"
   ]
  },
  {
   "cell_type": "code",
   "execution_count": null,
   "metadata": {},
   "outputs": [],
   "source": [
    "ip_addr = \"10.10.63.13\" # please change to your yanshee robot IP\n",
    "YanAPI.yan_api_init(ip_addr)"
   ]
  },
  {
   "cell_type": "markdown",
   "metadata": {},
   "source": [
    "## 3. Read the servo angle value\n",
    "\n",
    "### You can read the angle values of all or some servos"
   ]
  },
  {
   "cell_type": "raw",
   "metadata": {},
   "source": [
    "# Parameter description:\n",
    "# names: list[String] Robot Servo Name List\n",
    "\n",
    "'''\n",
    "        (\"RightShoulderRoll\",\"right_shoulder_roll\"), #servo No.1\n",
    "\n",
    "        (\"RightShoulderFlex\",\"right_shoulder_flex\"), #servo No.2\n",
    "\n",
    "        (\"RightElbowFlex\",\"right_elbow_flex\"),       #servo No.3\n",
    "\n",
    "        (\"LeftShoulderRoll\",\"left_shoulder_roll\"),   #servo No.4\n",
    "\n",
    "        (\"LeftShoulderFlex\",\"left_shoulder_flex\"),   #servo No.5\n",
    "\n",
    "        (\"LeftElbowFlex\",\"left_elbow_flex\"),         #servo No.6\n",
    "\n",
    "        (\"RightHipLR\",\"right_hip_lr\"),               #servo No.7\n",
    "\n",
    "        (\"RightHipFB\",\"right_hip_fb\"),               #servo No.8\n",
    "\n",
    "        (\"RightKneeFlex\",\"right_knee_flex\"),         #servo No.9\n",
    "\n",
    "        (\"RightAnkleFB\",\"right_ankle_fb\"),           #servo No.10\n",
    "\n",
    "        (\"RightAnkleUD\",\"right_ankle_ud\"),           #servo No.11\n",
    "\n",
    "        (\"LeftHipLR\",\"left_hip_lr\"),                 #servo No.12\n",
    "\n",
    "        (\"LeftHipFB\",\"left_hip_fb\"),                 #servo No.13\n",
    "\n",
    "        (\"LeftKneeFlex\",\"left_knee_flex\"),           #servo No.14\n",
    "\n",
    "        (\"LeftAnkleFB\",\"left_ankle_fb\"),             #servo No.15\n",
    "\n",
    "        (\"LeftAnkleUD\",\"left_ankle_ud\"),             #servo No.16\n",
    "\n",
    "        (\"NeckLR\",\"neck_lr\")                         #servo No.17\n",
    "\n",
    "    Returns:\n",
    "           Dict:\n",
    "           e.g::\n",
    " \n",
    "                {\n",
    "                    code:integer (int32)Return code; 0 indicates normal\n",
    "                    data:\n",
    "                                                {\n",
    "                            RightShoulderRoll:integer maximum:180     Servo 1\n",
    "                            RightShoulderFlex: integer maximum:180    Servo 2\n",
    "                            RightElbowFlex: integer maximum:180       Servo 3\n",
    "                            LeftShoulderRoll: integer maximum:180     Servo 4\n",
    "                            LeftShoulderFlex:integer maximum:180      Servo 5\n",
    "                            LeftElbowFlex: integer maximum:180        Servo 6\n",
    "                            RightHipLR: integer maximum:180           Servo 7\n",
    "                            RightHipFB: integer maximum:180           Servo 8\n",
    "                            RightKneeFlex:integer maximum:180         Servo 9\n",
    "                            RightAnkleFB:integer maximum:180          Servo 10\n",
    "                            RightAnkleUD: integer maximum:180         Servo 11\n",
    "                            LeftHipLR: integer maximum:180            Servo 12\n",
    "                            LeftHipFB: integer maximum:180            Servo 13\n",
    "                            LeftKneeFlex:integer maximum:180          Servo 14\n",
    "                            LeftAnkleFB: integer maximum:180          Servo 15\n",
    "                            LeftAnkleUD:integer maximum:180           Servo 16\n",
    "                            NeckLR: integer minimum:45 maximum:135    Servo 17\n",
    "                        }\n",
    "                    msg: string prompt\n",
    "                }\n",
    "\n",
    "    Examples:\n",
    "        Query the angles of servo 2 and servo 17\n",
    "\n",
    "        >>> res = YanAPI.get_servos_angles([\"RightShoulderFlex\",\"NeckLR\"])\n",
    "            print (res[\"data\"])\n",
    "\n",
    " '''"
   ]
  },
  {
   "cell_type": "code",
   "execution_count": null,
   "metadata": {},
   "outputs": [],
   "source": [
    "res = YanAPI.get_servos_angles([\"RightShoulderFlex\",\"NeckLR\"])\n",
    "print (res[\"data\"])"
   ]
  },
  {
   "cell_type": "markdown",
   "metadata": {},
   "source": [
    "## 4. Set the servo angle value\n",
    "\n",
    "### You can set the angle values of all or some servos"
   ]
  },
  {
   "cell_type": "raw",
   "metadata": {},
   "source": [
    "# Parameter description:\n",
    "\n",
    "    \"\"\"Set the servo angle value\n",
    "\n",
    "    You can set the angle values of one or multiple servos\n",
    "\n",
    "    Args:\n",
    "        angles(map) : {servoName:angle}  servoName, angle: [0-180]\n",
    "        runtime(int): minimum:200 maximum:4000 Running time, in milliseconds\n",
    "\n",
    "    Note:\n",
    "        ID1/2/3/4/5/6/9/10/14/The running angle range of servo 15 is 0 to 180, and a risk may occur in case of motion beyond the range.\n",
    "\n",
    "        The running angle range of servo ID 7 is 0 to 120, and a risk may occur in case of motion beyond the range.\n",
    "\n",
    "        The running angle range of servo ID 8 is 10 to 180, and a risk may occur in case of motion beyond the range.\n",
    "\n",
    "        The running angle range of servo ID 11 is 65 to 180, and a risk may occur in case of motion beyond the range.\n",
    "\n",
    "        The running angle range of servo ID 12 is 60 to 180, and a risk may occur in case of motion beyond the range.\n",
    "\n",
    "        The running angle range of servo ID 13 is 0 to 170, and a risk may occur in case of motion beyond the range.\n",
    "\n",
    "        The running angle range of servo ID 16 is 0 to 115, and a risk may occur in case of motion beyond the range.\n",
    "\n",
    "        The running angle range of servo ID 17 is 15 to 165, and a risk may occur in case of motion beyond the range.\n",
    "\n",
    "    Returns:\n",
    "           Dict:\n",
    "           e.g::\n",
    " \n",
    "                {\n",
    "                    code:integer (int32)Return code; 0 indicates normal\n",
    "                    data:\n",
    "                                                {\n",
    "                            RightShoulderRoll:boolean For servo 1, \"True\" indicates successful setting, and \"False\" indicates failure.\n",
    "                            RightShoulderFlex:boolean For servo 2, \"True\" indicates successful setting, and \"False\" indicates failure.\n",
    "                            RightElbowFlex:boolean For servo 3, \"True\" indicates successful setting, and \"False\" indicates failure.\n",
    "                            LeftShoulderRoll:boolean For servo 4, \"True\" indicates successful setting, and \"False\" indicates failure.\n",
    "                            LeftShoulderFlex:boolean For servo 5, \"True\" indicates successful setting, and \"False\" indicates failure.\n",
    "                            LeftElbowFlex:boolean For servo 6, \"True\" indicates successful setting, and \"False\" indicates failure.\n",
    "                            RightHipLR:boolean For servo 7, \"True\" indicates successful setting, and \"False\" indicates failure.\n",
    "                            RightHipFB:boolean For servo 8, \"True\" indicates successful setting, and \"False\" indicates failure.\n",
    "                            RightKneeFlex:boolean For servo 9, \"True\" indicates successful setting, and \"False\" indicates failure.\n",
    "                            RightAnkleFB:boolean For servo 10, \"True\" indicates successful setting, and \"False\" indicates failure.\n",
    "                            RightAnkleUD:boolean For servo 11, \"True\" indicates successful setting, and \"False\" indicates failure.\n",
    "                            LeftHipLR:boolean For servo 12, \"True\" indicates successful setting, and \"False\" indicates failure.\n",
    "                            LeftHipFB: boolean For servo 13, \"True\" indicates successful setting, and \"False\" indicates failure.\n",
    "                            LeftKneeFlex:boolean For servo 14, \"True\" indicates successful setting, and \"False\" indicates failure.\n",
    "                            LeftAnkleFB:boolean For servo 15, \"True\" indicates successful setting, and \"False\" indicates failure.\n",
    "                            LeftAnkleUD:boolean For servo 16, \"True\" indicates successful setting, and \"False\" indicates failure.\n",
    "                            NeckLR:boolean For servo 17, \"True\" indicates successful setting, and \"False\" indicates failure.\n",
    "                        }\n",
    "                    msg:string prompt\n",
    "                }\n",
    "\n",
    "    \"\"\""
   ]
  },
  {
   "cell_type": "code",
   "execution_count": null,
   "metadata": {},
   "outputs": [],
   "source": [
    "res = YanAPI.set_servos_angles({\"NeckLR\":90,\"RightShoulderFlex\":140})\n",
    "print (res[\"data\"])"
   ]
  },
  {
   "cell_type": "markdown",
   "metadata": {},
   "source": [
    "#### When \"True\" is returned, the setting is successful"
   ]
  },
  {
   "cell_type": "markdown",
   "metadata": {},
   "source": [
    "###  Example: Set the head servo to turn from 60 degrees to 90 degrees, then to 120 degrees, and finally back to 90 degrees."
   ]
  },
  {
   "cell_type": "code",
   "execution_count": null,
   "metadata": {},
   "outputs": [],
   "source": [
    "import time \n",
    "\n",
    "res = YanAPI.set_servos_angles({\"NeckLR\":60})\n",
    "time.sleep(1)\n",
    "res = YanAPI.set_servos_angles({\"NeckLR\":90})\n",
    "time.sleep(1)\n",
    "res = YanAPI.set_servos_angles({\"NeckLR\":120})\n",
    "time.sleep(1)\n",
    "res = YanAPI.set_servos_angles({\"NeckLR\":90})\n",
    "time.sleep(1)\n",
    "print(res)"
   ]
  },
  {
   "cell_type": "markdown",
   "metadata": {},
   "source": [
    "###  Example: Set servo 2 to turn from 140 degrees to 90 degrees and 40 degrees in turn, then back to 90 degrees, and finally back to 140 degrees."
   ]
  },
  {
   "cell_type": "code",
   "execution_count": null,
   "metadata": {},
   "outputs": [],
   "source": [
    "import time \n",
    "\n",
    "res = YanAPI.set_servos_angles({\"RightShoulderFlex\":90})\n",
    "time.sleep(1)\n",
    "res = YanAPI.set_servos_angles({\"RightShoulderFlex\":40})\n",
    "time.sleep(1)\n",
    "res = YanAPI.set_servos_angles({\"RightShoulderFlex\":90})\n",
    "time.sleep(1)\n",
    "res = YanAPI.set_servos_angles({\"RightShoulderFlex\":140})\n",
    "time.sleep(1)\n",
    "print(res)"
   ]
  }
 ],
 "metadata": {
  "kernelspec": {
   "display_name": "Python 3",
   "language": "python",
   "name": "python3"
  },
  "language_info": {
   "codemirror_mode": {
    "name": "ipython",
    "version": 3
   },
   "file_extension": ".py",
   "mimetype": "text/x-python",
   "name": "python",
   "nbconvert_exporter": "python",
   "pygments_lexer": "ipython3",
   "version": "3.5.3"
  }
 },
 "nbformat": 4,
 "nbformat_minor": 4
}
