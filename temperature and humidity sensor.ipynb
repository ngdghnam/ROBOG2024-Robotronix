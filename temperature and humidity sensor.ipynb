{
 "cells": [
  {
   "cell_type": "code",
   "execution_count": 1,
   "metadata": {},
   "outputs": [
    {
     "ename": "ModuleNotFoundError",
     "evalue": "No module named 'YansheeRobot'",
     "output_type": "error",
     "traceback": [
      "\u001b[1;31m---------------------------------------------------------------------------\u001b[0m",
      "\u001b[1;31mModuleNotFoundError\u001b[0m                       Traceback (most recent call last)",
      "Cell \u001b[1;32mIn[1], line 1\u001b[0m\n\u001b[1;32m----> 1\u001b[0m \u001b[38;5;28;01mfrom\u001b[39;00m \u001b[38;5;21;01mYansheeRobot\u001b[39;00m \u001b[38;5;28;01mimport\u001b[39;00m YanAPI\n\u001b[0;32m      3\u001b[0m res \u001b[38;5;241m=\u001b[39m YanAPI\u001b[38;5;241m.\u001b[39mget_sensors_environment()\n\u001b[0;32m      4\u001b[0m \u001b[38;5;28mprint\u001b[39m(res)\n",
      "\u001b[1;31mModuleNotFoundError\u001b[0m: No module named 'YansheeRobot'"
     ]
    }
   ],
   "source": [
    "from YansheeRobot import YanAPI # type: ignore\n",
    "\n",
    "ip_addr = \"10.10.63.13\" # change to your yanshee robot IP\n",
    "YanAPI.yan_api_init(ip_addr)\n",
    "\n",
    "res = YanAPI.get_sensors_environment()\n",
    "print(res)\n",
    "if len(res[\"data\"]['environment'])>0:\n",
    "    temperature = res[\"data\"]['environment'][0][\"temperature\"]\n",
    "    humidity = res[\"data\"]['environment'][0][\"humidity\"]\n",
    "\n",
    "    print(\"Temperature value detected: \"+str(temperature)+\"Celsius degrees\")\n",
    "    print(\"Humidity value detected: \"+str(humidity)+\"%RH\")\n",
    "\n",
    "    def temperature_suggestion(temperature):\n",
    "        switcher = {\n",
    "            \"below_0\": \"It's extremely cold.\",\n",
    "            \"0_to_10\": \"It's quite cold.\",\n",
    "            \"10_to_20\": \"It's cool.\",\n",
    "            \"20_to_30\": \"The weather is fine.\",\n",
    "            \"30_to_40\": \"It's warm. Stay hydrated.\",\n",
    "            \"above_40\": \"It's extremely hot. Stay hydrated.\"\n",
    "        }\n",
    "        if temperature < 0:\n",
    "            return switcher[\"below_0\"]\n",
    "        elif 0 <= temperature < 10:\n",
    "            return switcher[\"0_to_10\"]\n",
    "        elif 10 <= temperature < 20:\n",
    "            return switcher[\"10_to_20\"]\n",
    "        elif 20 <= temperature < 30:\n",
    "            return switcher[\"20_to_30\"]\n",
    "        elif 30 <= temperature < 40:\n",
    "            return switcher[\"30_to_40\"]\n",
    "        else:\n",
    "            return switcher[\"above_40\"]\n",
    "\n",
    "    def humidity_suggestion(humidity):\n",
    "        switcher = {\n",
    "            \"below_30\": \"Low humidity.\",\n",
    "            \"30_to_50\": \"Ideal humidity. The air feels comfortable.\",\n",
    "            \"50_to_70\": \"Medium humidity. It might feel a bit humid.\",\n",
    "            \"70_to_85\": \"High humidity. It might feel sticky and uncomfortable.\",\n",
    "            \"above_85\": \"The humidity is very high. It might feel sticky and uncomfortable.\"\n",
    "        }\n",
    "        if humidity < 30:\n",
    "            return switcher[\"below_30\"]\n",
    "        elif 30 <= humidity < 50:\n",
    "            return switcher[\"30_to_50\"]\n",
    "        elif 50 <= humidity < 70:\n",
    "            return switcher[\"50_to_70\"]\n",
    "        elif 70 <= humidity < 85:\n",
    "            return switcher[\"70_to_85\"]\n",
    "        else:\n",
    "            return switcher[\"above_85\"]\n",
    "\n",
    "    print(temperature_suggestion(temperature))\n",
    "    print(humidity_suggestion(humidity))\n",
    "\n",
    "else:\n",
    "        print(\"\\nNo temperature and humidity sensor detected \")"
   ]
  }
 ],
 "metadata": {
  "kernelspec": {
   "display_name": "Python 3",
   "language": "python",
   "name": "python3"
  },
  "language_info": {
   "codemirror_mode": {
    "name": "ipython",
    "version": 3
   },
   "file_extension": ".py",
   "mimetype": "text/x-python",
   "name": "python",
   "nbconvert_exporter": "python",
   "pygments_lexer": "ipython3",
   "version": "3.12.4"
  }
 },
 "nbformat": 4,
 "nbformat_minor": 2
}
