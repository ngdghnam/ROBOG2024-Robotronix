{
 "cells": [
  {
   "cell_type": "markdown",
   "metadata": {},
   "source": [
    "# Yanshee - Device control (volume adjustment, power information, version No. acquisition, etc.)"
   ]
  },
  {
   "cell_type": "markdown",
   "metadata": {},
   "source": [
    "## 1. First import the robot header file"
   ]
  },
  {
   "cell_type": "code",
   "execution_count": null,
   "metadata": {},
   "outputs": [],
   "source": [
    "from YansheeRobot import YanAPI"
   ]
  },
  {
   "cell_type": "markdown",
   "metadata": {},
   "source": [
    "## 2. Set the IP address of the robot to be controlled"
   ]
  },
  {
   "cell_type": "code",
   "execution_count": null,
   "metadata": {},
   "outputs": [],
   "source": [
    "ip_addr = \"10.10.63.13\" # please change to your yanshee robot IP\n",
    "YanAPI.yan_api_init(ip_addr)"
   ]
  },
  {
   "cell_type": "markdown",
   "metadata": {},
   "source": [
    "## 3. Call the volume adjustment interface to control the volume\n",
    "\n",
    "### The volume range is from 0 to 100."
   ]
  },
  {
   "cell_type": "code",
   "execution_count": null,
   "metadata": {},
   "outputs": [],
   "source": [
    "volume_val = 85\n",
    "res = YanAPI.set_robot_volume(volume_val)\n",
    "print(res)"
   ]
  },
  {
   "cell_type": "markdown",
   "metadata": {},
   "source": [
    "## 4. Get current robot volume\n"
   ]
  },
  {
   "cell_type": "code",
   "execution_count": null,
   "metadata": {},
   "outputs": [],
   "source": [
    "res = YanAPI.get_robot_volume()\n",
    "print (res)\n",
    "result = str(res[\"data\"][\"volume\"])\n",
    "print(\"\\nCurrent volume: \"+ result)"
   ]
  },
  {
   "cell_type": "markdown",
   "metadata": {},
   "source": [
    "## 5. Get robot power information"
   ]
  },
  {
   "cell_type": "code",
   "execution_count": null,
   "metadata": {},
   "outputs": [],
   "source": [
    "res = YanAPI.get_robot_battery_info()\n",
    "print (res)\n",
    "res_percent = str(res[\"data\"][\"percent\"])\n",
    "res_charging = res['data'][\"charging\"]\n",
    "res_voltage = str(res[\"data\"]['voltage'])\n",
    "\n",
    "res = \"Yes \" if res_charging == 1 else  \"No\"\n",
    "\n",
    "print(\"\\nCurrent power: \"+ res_percent)\n",
    "print(\"Power cord is inserted: \"+res )\n",
    "print(\"Current power: \"+ res_voltage)"
   ]
  },
  {
   "cell_type": "markdown",
   "metadata": {},
   "source": [
    "## 6. Get robot version No.\n",
    "\n",
    "### core: Robot main software version + Hardware version + MCU version; servo: Robot servo version; sn: Robot SN."
   ]
  },
  {
   "cell_type": "code",
   "execution_count": null,
   "metadata": {},
   "outputs": [],
   "source": [
    "res = YanAPI.get_robot_version_info('core')\n",
    "#print (res)\n",
    "print(\"\\nCurrent robot version No.: \"+res[\"data\"][\"core\"])\n",
    "res = YanAPI.get_robot_version_info('servo')\n",
    "#print (res)\n",
    "res = YanAPI.get_robot_version_info('sn')\n",
    "#print (res)\n",
    "print(\"Robot SN: \"+res[\"data\"][\"sn\"])"
   ]
  },
  {
   "cell_type": "code",
   "execution_count": null,
   "metadata": {},
   "outputs": [],
   "source": []
  }
 ],
 "metadata": {
  "kernelspec": {
   "display_name": "Python 3",
   "language": "python",
   "name": "python3"
  },
  "language_info": {
   "codemirror_mode": {
    "name": "ipython",
    "version": 3
   },
   "file_extension": ".py",
   "mimetype": "text/x-python",
   "name": "python",
   "nbconvert_exporter": "python",
   "pygments_lexer": "ipython3",
   "version": "3.5.3"
  }
 },
 "nbformat": 4,
 "nbformat_minor": 4
}
